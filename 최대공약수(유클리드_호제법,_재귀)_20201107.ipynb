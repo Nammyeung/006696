{
  "nbformat": 4,
  "nbformat_minor": 0,
  "metadata": {
    "colab": {
      "name": "최대공약수(유클리드 호제법, 재귀)_20201107.ipynb",
      "provenance": [],
      "authorship_tag": "ABX9TyMVLhXJmcAgwTER+NDCQjkj",
      "include_colab_link": true
    },
    "kernelspec": {
      "name": "python3",
      "display_name": "Python 3"
    }
  },
  "cells": [
    {
      "cell_type": "markdown",
      "metadata": {
        "id": "view-in-github",
        "colab_type": "text"
      },
      "source": [
        "<a href=\"https://colab.research.google.com/github/Nammyeung/006696/blob/master/%EC%B5%9C%EB%8C%80%EA%B3%B5%EC%95%BD%EC%88%98(%EC%9C%A0%ED%81%B4%EB%A6%AC%EB%93%9C_%ED%98%B8%EC%A0%9C%EB%B2%95%2C_%EC%9E%AC%EA%B7%80)_20201107.ipynb\" target=\"_parent\"><img src=\"https://colab.research.google.com/assets/colab-badge.svg\" alt=\"Open In Colab\"/></a>"
      ]
    },
    {
      "cell_type": "code",
      "metadata": {
        "id": "t3TpTif5mK15",
        "outputId": "090e6d0b-f74f-407f-8e6d-f3d7d0baf0a2",
        "colab": {
          "base_uri": "https://localhost:8080/"
        }
      },
      "source": [
        "def gcd(p, q):\n",
        "  if q == 0:\n",
        "    return p\n",
        "  else:\n",
        "    return gcd(q, p % q)\n",
        "  \n",
        "result = gcd(10, 12)\n",
        "print('최대공약수:',result)"
      ],
      "execution_count": 1,
      "outputs": [
        {
          "output_type": "stream",
          "text": [
            "최대공약수: 2\n"
          ],
          "name": "stdout"
        }
      ]
    }
  ]
}