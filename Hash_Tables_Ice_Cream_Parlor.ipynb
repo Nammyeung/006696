{
  "nbformat": 4,
  "nbformat_minor": 0,
  "metadata": {
    "colab": {
      "name": "Hash Tables: Ice Cream Parlor.ipynb",
      "provenance": [],
      "collapsed_sections": [],
      "authorship_tag": "ABX9TyMcwsUbR2OCptcjSPPtw9Fg",
      "include_colab_link": true
    },
    "kernelspec": {
      "name": "python3",
      "display_name": "Python 3"
    }
  },
  "cells": [
    {
      "cell_type": "markdown",
      "metadata": {
        "id": "view-in-github",
        "colab_type": "text"
      },
      "source": [
        "<a href=\"https://colab.research.google.com/github/Nammyeung/006696/blob/master/Hash_Tables_Ice_Cream_Parlor.ipynb\" target=\"_parent\"><img src=\"https://colab.research.google.com/assets/colab-badge.svg\" alt=\"Open In Colab\"/></a>"
      ]
    },
    {
      "cell_type": "code",
      "metadata": {
        "id": "u0RvtHROm2Fe",
        "colab_type": "code",
        "colab": {
          "base_uri": "https://localhost:8080/",
          "height": 1000
        },
        "outputId": "6e107306-abcc-45d8-f2ff-fecfdfd98902"
      },
      "source": [
        "#!/bin/python3\n",
        "\n",
        "import math\n",
        "import os\n",
        "import random\n",
        "import re\n",
        "import sys\n",
        "\n",
        "\n",
        "# Complete the whatFlavors function below.\n",
        "def whatFlavors(cost, money):\n",
        "\n",
        "  cost_map = {}\n",
        "  for i, cost in enumerate(cost):\n",
        "    print(\"초기 cost\")\n",
        "    sunny = cost\n",
        "    johnny = money - cost\n",
        "    print(\"johnny : \")\n",
        "    print(johnny)\n",
        "    if johnny in cost_map.keys():\n",
        "      print(\"cost_map :\")\n",
        "      print(cost_map[johnny] + 1, i + 1)\n",
        "    else:\n",
        "      print(\"돈 사용한건가?\")\n",
        "      cost_map[cost] = i\n",
        "      print(cost_map)\n",
        "\n",
        "#if __name__ == '__main__':\n",
        "print(\"몇 명이 아이스크림을 사러 왔나요?\")\n",
        "t = int(input())\n",
        "\n",
        "for t_itr in range(t):\n",
        "    print(\"가지고 있는 돈을 입력하시오(사람 수 : %d)\" % (t))\n",
        "    money = int(input())\n",
        "\n",
        "    print(\"가게의 아이스크림 수를 입력하시오\")\n",
        "    n = int(input())\n",
        "\n",
        "    print(\"아이스크림 가격을 입력하시오(횟수 : %d)\" % (n))\n",
        "    cost = list(map(int, input().rstrip().split()))\n",
        "\n",
        "    whatFlavors(cost, money)\n"
      ],
      "execution_count": 9,
      "outputs": [
        {
          "output_type": "stream",
          "text": [
            "몇 명이 아이스크림을 사러 왔나요?\n",
            "2\n",
            "가지고 있는 돈을 입력하시오(사람 수 : 2)\n",
            "4\n",
            "가게의 아이스크림 수를 입력하시오\n",
            "5\n",
            "아이스크림 가격을 입력하시오(횟수 : 5)\n",
            "1 4 5 3 2\n",
            "초기 cost\n",
            "johnny : \n",
            "3\n",
            "돈 사용한건가?\n",
            "{1: 0}\n",
            "초기 cost\n",
            "johnny : \n",
            "0\n",
            "돈 사용한건가?\n",
            "{1: 0, 4: 1}\n",
            "초기 cost\n",
            "johnny : \n",
            "-1\n",
            "돈 사용한건가?\n",
            "{1: 0, 4: 1, 5: 2}\n",
            "초기 cost\n",
            "johnny : \n",
            "1\n",
            "cost_map :\n",
            "1 4\n",
            "초기 cost\n",
            "johnny : \n",
            "2\n",
            "돈 사용한건가?\n",
            "{1: 0, 4: 1, 5: 2, 2: 4}\n",
            "가지고 있는 돈을 입력하시오(사람 수 : 2)\n",
            "4\n",
            "가게의 아이스크림 수를 입력하시오\n",
            "4\n",
            "아이스크림 가격을 입력하시오(횟수 : 4)\n",
            "2 2 4 3\n",
            "초기 cost\n",
            "johnny : \n",
            "2\n",
            "돈 사용한건가?\n",
            "{2: 0}\n",
            "초기 cost\n",
            "johnny : \n",
            "2\n",
            "cost_map :\n",
            "1 2\n",
            "초기 cost\n",
            "johnny : \n",
            "0\n",
            "돈 사용한건가?\n",
            "{2: 0, 4: 2}\n",
            "초기 cost\n",
            "johnny : \n",
            "1\n",
            "돈 사용한건가?\n",
            "{2: 0, 4: 2, 3: 3}\n"
          ],
          "name": "stdout"
        }
      ]
    }
  ]
}